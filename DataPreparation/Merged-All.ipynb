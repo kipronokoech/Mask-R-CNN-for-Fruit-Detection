{
 "cells": [
  {
   "cell_type": "code",
   "execution_count": 1,
   "metadata": {},
   "outputs": [],
   "source": [
    "import pandas as pd\n",
    "import os\n",
    "import random \n",
    "import numpy as np\n",
    "import shutil"
   ]
  },
  {
   "cell_type": "code",
   "execution_count": 2,
   "metadata": {},
   "outputs": [],
   "source": [
    "os.chdir(\"../Annotation projects/Merged\")"
   ]
  },
  {
   "cell_type": "code",
   "execution_count": 3,
   "metadata": {},
   "outputs": [],
   "source": [
    "# all_images = os.listdir(\"images\")"
   ]
  },
  {
   "cell_type": "code",
   "execution_count": 4,
   "metadata": {},
   "outputs": [],
   "source": [
    "# val_set = random.sample(all_images,int(0.2*len(all_images)))\n",
    "# test_set = random.sample(list(np.setdiff1d(all_images,val_set)),int(0.2*len(all_images)))\n",
    "# train_set = np.setdiff1d(list(np.setdiff1d(all_images,val_set)),test_set)"
   ]
  },
  {
   "cell_type": "code",
   "execution_count": 7,
   "metadata": {},
   "outputs": [],
   "source": [
    "# set_ = \"train\"\n",
    "# for i in train_set:\n",
    "#     src_train = os.path.join(\"images\", i)\n",
    "#     dest_train = os.path.join(\"{}_images\".format(set_),i)\n",
    "#     annot_name, ext = os.path.splitext(i)\n",
    "#     shutil.copy(src_train,dest_train)"
   ]
  },
  {
   "cell_type": "code",
   "execution_count": 8,
   "metadata": {},
   "outputs": [],
   "source": [
    "# train_images = os.listdir(\"train_images\")\n",
    "# val_images = os.listdir(\"val_images\")\n",
    "# test_images = os.listdir(\"test_images\")"
   ]
  },
  {
   "cell_type": "code",
   "execution_count": 9,
   "metadata": {},
   "outputs": [],
   "source": [
    "# #Filter images by set from all annotations\n",
    "# all_df = pd.read_csv(\"annotations/merged_annotations.csv\")"
   ]
  },
  {
   "cell_type": "code",
   "execution_count": 10,
   "metadata": {},
   "outputs": [],
   "source": [
    "# # csv for all sets\n",
    "# train_csv = all_df[all_df[\"filename\"].isin(train_images)].reset_index(drop=True)\n",
    "# train_csv.to_csv(\"train.csv\", index = False)\n",
    "# val_csv = all_df[all_df[\"filename\"].isin(val_images)].reset_index(drop=True)\n",
    "# val_csv.to_csv(\"val.csv\", index = False)\n",
    "# test_csv = all_df[all_df[\"filename\"].isin(test_images)].reset_index(drop=True)\n",
    "# test_csv.to_csv(\"test.csv\", index = False)"
   ]
  },
  {
   "cell_type": "code",
   "execution_count": null,
   "metadata": {},
   "outputs": [],
   "source": []
  },
  {
   "cell_type": "code",
   "execution_count": null,
   "metadata": {},
   "outputs": [],
   "source": []
  },
  {
   "cell_type": "code",
   "execution_count": null,
   "metadata": {},
   "outputs": [],
   "source": []
  },
  {
   "cell_type": "code",
   "execution_count": 25,
   "metadata": {},
   "outputs": [],
   "source": [
    "# meta_df = pd.DataFrame(columns=['filename', 'file_size', 'file_attributes', 'region_count', 'region_id', 'region_shape_attributes', 'region_attributes'])\n",
    "# for csv in os.listdir(\"annotations\"):\n",
    "#     df = pd.read_csv(os.path.join(\"annotations\",csv))\n",
    "#     meta_df = meta_df.merge(df, how=\"outer\")\n",
    "# meta_df.to_csv(os.path.join(\"annotations\",\"merged_annotations.csv\"),index=False)"
   ]
  },
  {
   "cell_type": "code",
   "execution_count": null,
   "metadata": {},
   "outputs": [],
   "source": []
  }
 ],
 "metadata": {
  "kernelspec": {
   "display_name": "Python 3",
   "language": "python",
   "name": "python3"
  },
  "language_info": {
   "codemirror_mode": {
    "name": "ipython",
    "version": 3
   },
   "file_extension": ".py",
   "mimetype": "text/x-python",
   "name": "python",
   "nbconvert_exporter": "python",
   "pygments_lexer": "ipython3",
   "version": "3.7.3"
  }
 },
 "nbformat": 4,
 "nbformat_minor": 2
}
